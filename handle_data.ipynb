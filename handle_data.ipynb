{
 "cells": [
  {
   "cell_type": "code",
   "execution_count": 8,
   "metadata": {},
   "outputs": [],
   "source": [
    "import rasterio\n",
    "from rasterio.enums import Resampling\n",
    "import numpy as np\n",
    "\n",
    "def merge_band(rgb_image_path, height_image_path, output_filename):\n",
    "    with rasterio.open(rgb_image_path) as src:\n",
    "        # Read the source image data\n",
    "        source_data = src.read().astype('float32')\n",
    "        profile = src.profile.copy()\n",
    "        profile.update(dtype='float32')\n",
    "\n",
    "        # Open the target image in write mode\n",
    "        with rasterio.open(output_filename, 'w', **profile) as tgt:\n",
    "            # Write the source image data to the target image\n",
    "            tgt.write(source_data)\n",
    "\n",
    "    with rasterio.open(height_image_path) as src:\n",
    "        # Read the source image data\n",
    "        source_data = src.read(1).astype('float32')\n",
    "        profile = src.profile.copy()\n",
    "        profile.update(dtype='float32')\n",
    "        # Open the target image in write mode\n",
    "        with rasterio.open(output_filename, 'r+', **profile) as tgt:\n",
    "            # Write the source image data to the target image\n",
    "            tgt.write(source_data, 4)\n",
    "\n",
    "    with rasterio.open(rgb_image_path) as mask_src:\n",
    "        mask = mask_src.read(1)  # Assuming the mask is in the first band\n",
    "        mask = mask.astype(bool)  # Convert to boolean mask\n",
    "\n",
    "    # Open the source image in read mode\n",
    "    with rasterio.open(output_filename) as src:\n",
    "        # Read the source image data\n",
    "        source_data = src.read()\n",
    "\n",
    "        # Apply the mask to the source data\n",
    "        masked_data = source_data * mask.astype(source_data.dtype)\n",
    "\n",
    "        # Update metadata for target file\n",
    "        profile = src.profile.copy()\n",
    "\n",
    "        # Open the target image in write mode\n",
    "        with rasterio.open(output_filename, 'w', **profile) as tgt:\n",
    "            # Write the masked data to the target image\n",
    "            tgt.write(masked_data)\n"
   ]
  },
  {
   "cell_type": "code",
   "execution_count": 13,
   "metadata": {},
   "outputs": [],
   "source": [
    "file1 = \"out/sun_hoa_binh_cuoi_ha_2.tif\"\n",
    "file2 = 'out/sun_hoa_binh_cuoi_ha_2_height.tif'\n",
    "output_filename = 'out/sun_hoa_binh_cuoi_ha_2_4b.tif'\n",
    "merge_band(file1, file2, output_filename)"
   ]
  },
  {
   "cell_type": "code",
   "execution_count": 1,
   "metadata": {},
   "outputs": [],
   "source": [
    "import json\n",
    "from shapely.geometry import Polygon\n",
    "import matplotlib.pyplot as plt\n",
    "from PIL import Image, ImageDraw\n",
    "import os\n",
    "import shutil\n",
    "import numpy as np\n",
    "import tifffile as tiff\n",
    "\n",
    "def create_mask_from_json(json_path, image_path, output_dir):\n",
    "    image_base_name = os.path.basename(image_path) #get file name, e.g 'kho_xang_.tif'\n",
    "\n",
    "    # Đọc tập tin .json chứa thông tin về nhãn\n",
    "    with open(json_path, 'r') as file:\n",
    "        data = json.load(file)\n",
    "\n",
    "    shapes = data.get(\"shapes\", [])  # Lấy danh sách các hình đa giác\n",
    "\n",
    "    # Đọc ảnh vệ tinh\n",
    "    img = Image.open(image_path)\n",
    "\n",
    "    # Tạo ảnh mask mới với kích thước và định dạng như ảnh vệ tinh\n",
    "    mask = Image.new(\"L\", img.size, 0)\n",
    "    draw = ImageDraw.Draw(mask)\n",
    "\n",
    "    # Lặp qua danh sách các hình đa giác và tô màu trắng vào các vùng đa giác biểu diễn nhãn\n",
    "    for shape in shapes:\n",
    "        points = shape.get(\"points\", [])\n",
    "        xy = [tuple(map(int, p)) for p in points]\n",
    "        draw.polygon(xy, outline=1, fill=1)\n",
    "\n",
    "    # Chuyển mask thành mảng numpy và điều chỉnh màu sắc\n",
    "    mask_array = np.array(mask)\n",
    "    mask_array[mask_array == 1] = 255\n",
    "\n",
    "\n",
    "\n",
    "    # Lưu mask vào tập tin .tif\n",
    "    mask_dir = os.path.join(output_dir)\n",
    "    os.makedirs(mask_dir, exist_ok=True)\n",
    "    image_name = os.path.splitext(os.path.basename(image_base_name))[0]\n",
    "    mask_path = os.path.join(mask_dir, image_name + \"_grass.tif\") #save the output file as .tif\n",
    "\n",
    "    # if file already exists, remove it\n",
    "    if os.path.isfile(mask_path):\n",
    "      os.remove(mask_path)\n",
    "    tiff.imwrite(mask_path, mask_array)\n",
    "\n"
   ]
  },
  {
   "cell_type": "code",
   "execution_count": 3,
   "metadata": {},
   "outputs": [],
   "source": [
    "json_path = 'out/sun_hoa_binh_cuoi_ha_2.json'\n",
    "image_path = 'out/sun_hoa_binh_cuoi_ha_2.tif'\n",
    "output_dir = 'out'\n",
    "create_mask_from_json(json_path, image_path, output_dir)"
   ]
  },
  {
   "cell_type": "code",
   "execution_count": 4,
   "metadata": {},
   "outputs": [
    {
     "data": {
      "text/plain": [
       "<matplotlib.image.AxesImage at 0x2971534c4f0>"
      ]
     },
     "execution_count": 4,
     "metadata": {},
     "output_type": "execute_result"
    },
    {
     "data": {
      "image/png": "[encoded data removed]",
      "text/plain": [
       "<Figure size 640x480 with 1 Axes>"
      ]
     },
     "metadata": {},
     "output_type": "display_data"
    }
   ],
   "source": [
    "import cv2\n",
    "import matplotlib.pyplot as plt\n",
    "img = cv2.imread('out/sun_hoa_binh_cuoi_ha_2_grass.tif')\n",
    "plt.imshow(img, cmap='gray')"
   ]
  },
  {
   "cell_type": "code",
   "execution_count": null,
   "metadata": {},
   "outputs": [
    {
     "ename": "ModuleNotFoundError",
     "evalue": "No module named 'geopandas'",
     "output_type": "error",
     "traceback": [
      "\u001b[1;31m---------------------------------------------------------------------------\u001b[0m",
      "\u001b[1;31mModuleNotFoundError\u001b[0m                       Traceback (most recent call last)",
      "Cell \u001b[1;32mIn[14], line 1\u001b[0m\n\u001b[1;32m----> 1\u001b[0m \u001b[38;5;28;01mimport\u001b[39;00m \u001b[38;5;21;01mgeopandas\u001b[39;00m \u001b[38;5;28;01mas\u001b[39;00m \u001b[38;5;21;01mgpd\u001b[39;00m\n\u001b[0;32m      2\u001b[0m \u001b[38;5;28;01mimport\u001b[39;00m \u001b[38;5;21;01mrasterio\u001b[39;00m\n\u001b[0;32m      3\u001b[0m \u001b[38;5;28;01mfrom\u001b[39;00m \u001b[38;5;21;01mrasterio\u001b[39;00m\u001b[38;5;21;01m.\u001b[39;00m\u001b[38;5;21;01mmask\u001b[39;00m \u001b[38;5;28;01mimport\u001b[39;00m mask\n",
      "\u001b[1;31mModuleNotFoundError\u001b[0m: No module named 'geopandas'"
     ]
    }
   ],
   "source": [
    "import geopandas as gpd\n",
    "import rasterio\n",
    "from rasterio.mask import mask\n",
    "from shapely.geometry import box\n",
    "import argparse\n",
    "import os\n",
    "def crop(input_tiff_path, output_tiff_path, crs, minx, miny, maxx, maxy):\n",
    "    print(f\"Crop {minx}, {maxx}, {miny}, {maxy}\")\n",
    "    bbox = box(minx, miny, maxx, maxy)\n",
    "    bbox_gdf = gpd.GeoDataFrame({'geometry': bbox}, index=[0], crs=crs)\n",
    "\n",
    "    with rasterio.open(input_tiff_path) as src:\n",
    "        out_image, out_transform = mask(src, bbox_gdf.geometry, crop=True)\n",
    "        out_meta = src.meta.copy()\n",
    "\n",
    "    out_meta.update({\"driver\": \"GTiff\",\n",
    "                    \"height\": out_image.shape[1],\n",
    "                    \"width\": out_image.shape[2],\n",
    "                    \"transform\": out_transform})\n",
    "\n",
    "    with rasterio.open(output_tiff_path, \"w\", **out_meta) as dest:\n",
    "        dest.write(out_image)\n",
    "\n",
    "def get_file_name(file_path):\n",
    "    file_name, file_extension = os.path.splitext(file_path)\n",
    "    return os.path.basename(file_name)\n",
    "    \n",
    "def main(input_tiff_path, output_dir, width=512, height=512):\n",
    "    dataset = rasterio.open(input_tiff_path)\n",
    "    img_width = dataset.width\n",
    "    img_height = dataset.height\n",
    "\n",
    "    ct = 0\n",
    "    file_name = get_file_name(input_tiff_path)\n",
    "\n",
    "    for i in range(0, img_height, height):\n",
    "        for j in range(0, img_width, width):\n",
    "            minx, miny = dataset.xy(i, j)\n",
    "            maxx, maxy = dataset.xy(min(i+height, img_height), min(j+width, img_width))\n",
    "\n",
    "            crop(input_tiff_path, os.path.join(out_dir, f'{file_name}_{ct}.tif'), dataset.crs, minx, miny, maxx, maxy)\n",
    "            ct += 1\n"
   ]
  },
  {
   "cell_type": "code",
   "execution_count": null,
   "metadata": {},
   "outputs": [],
   "source": [
    "            \n",
    "# if __name__ == \"__main__\":\n",
    "#     parser = argparse.ArgumentParser(description=\"CROP FILE\")\n",
    "#     parser.add_argument(\"--input\", help=\"input path\")\n",
    "#     parser.add_argument(\"--out_dir\", help=\"output directory\")\n",
    "#     parser.add_argument(\"--width\", help=\"width\")\n",
    "#     parser.add_argument(\"--height\", help=\"height\")\n",
    "#     args = parser.parse_args()\n",
    "\n",
    "#     input_tiff_path = args.input\n",
    "#     out_dir = args.out_dir\n",
    "#     width, height = int(args.width), int(args.height)\n",
    "\n",
    "#     if not os.path.exists(out_dir):\n",
    "#         # If not, create the folder\n",
    "#         os.makedirs(out_dir)\n",
    "\n",
    "#     dtm_path = main(input_tiff_path, out_dir, width, height)\n"
   ]
  },
  {
   "cell_type": "code",
   "execution_count": 8,
   "metadata": {},
   "outputs": [
    {
     "name": "stdout",
     "output_type": "stream",
     "text": [
      "3001 1501\n",
      "13526 5058\n"
     ]
    }
   ],
   "source": [
    "import rasterio\n",
    "data1 = rasterio.open(\"out/sun_hoa_binh_cuoi_ha_2.tif\")\n",
    "data2 = rasterio.open(\"scene/sun_hoa_binh_cuoi_ha.tif\")\n",
    "\n",
    "width1, height1 = data1.width, data1.height\n",
    "width2, height2 = data2.width, data2.height\n",
    "\n",
    "print(height1, width1)\n",
    "print(height2, width2)"
   ]
  },
  {
   "cell_type": "code",
   "execution_count": 9,
   "metadata": {},
   "outputs": [
    {
     "name": "stdout",
     "output_type": "stream",
     "text": [
      "(557510.2880800001, 2279894.9245400005) (557960.2880800001, 2278994.9245400005)\n"
     ]
    }
   ],
   "source": [
    "top_left = data1.xy(0, 0)\n",
    "bot_right = data1.xy(height1-1, width1-1)\n",
    "\n",
    "print(top_left, bot_right)"
   ]
  },
  {
   "cell_type": "code",
   "execution_count": 10,
   "metadata": {},
   "outputs": [
    {
     "name": "stdout",
     "output_type": "stream",
     "text": [
      "8000 3500\n",
      "11000 5000\n"
     ]
    }
   ],
   "source": [
    "row1, col1 = data2.index(*top_left)\n",
    "row2, col2 = data2.index(*bot_right)\n",
    "\n",
    "print(row1, col1)\n",
    "print(row2, col2)"
   ]
  }
 ],
 "metadata": {
  "kernelspec": {
   "display_name": "Python 3",
   "language": "python",
   "name": "python3"
  },
  "language_info": {
   "codemirror_mode": {
    "name": "ipython",
    "version": 3
   },
   "file_extension": ".py",
   "mimetype": "text/x-python",
   "name": "python",
   "nbconvert_exporter": "python",
   "pygments_lexer": "ipython3",
   "version": "3.10.11"
  }
 },
 "nbformat": 4,
 "nbformat_minor": 2
}
